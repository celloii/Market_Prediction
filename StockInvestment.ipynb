{
 "cells": [
  {
   "attachments": {},
   "cell_type": "markdown",
   "metadata": {
    "id": "iA1i56QvNdQI"
   },
   "source": [
    "Calculate the standard deviation of each stock using the closing prices from each day over the past 10 years. Run this before running the high risk or low risk strategy."
   ]
  },
  {
   "cell_type": "code",
   "execution_count": 1,
   "metadata": {},
   "outputs": [],
   "source": [
    "import yfinance as yf\n",
    "import numpy as np"
   ]
  },
  {
   "cell_type": "code",
   "execution_count": 2,
   "metadata": {
    "colab": {
     "base_uri": "https://localhost:8080/"
    },
    "id": "KCM8Ny-vHY7Y",
    "outputId": "3c7900d7-5866-44c0-d46f-53f04f168632"
   },
   "outputs": [
    {
     "name": "stderr",
     "output_type": "stream",
     "text": [
      "[*********************100%%**********************]  1 of 1 completed\n"
     ]
    },
    {
     "name": "stdout",
     "output_type": "stream",
     "text": [
      "Standard deviation of GOOG: 37.29\n"
     ]
    },
    {
     "name": "stderr",
     "output_type": "stream",
     "text": [
      "[*********************100%%**********************]  1 of 1 completed\n",
      "[*********************100%%**********************]  1 of 1 completed\n"
     ]
    },
    {
     "name": "stdout",
     "output_type": "stream",
     "text": [
      "Standard deviation of TSLA: 108.48\n",
      "Standard deviation of META: 81.15\n"
     ]
    },
    {
     "name": "stderr",
     "output_type": "stream",
     "text": [
      "[*********************100%%**********************]  1 of 1 completed\n"
     ]
    },
    {
     "name": "stdout",
     "output_type": "stream",
     "text": [
      "Standard deviation of NVDA: 117.90\n"
     ]
    },
    {
     "name": "stderr",
     "output_type": "stream",
     "text": [
      "[*********************100%%**********************]  1 of 1 completed\n"
     ]
    },
    {
     "name": "stdout",
     "output_type": "stream",
     "text": [
      "Standard deviation of AAPL: 56.22\n"
     ]
    },
    {
     "name": "stderr",
     "output_type": "stream",
     "text": [
      "[*********************100%%**********************]  1 of 1 completed\n"
     ]
    },
    {
     "name": "stdout",
     "output_type": "stream",
     "text": [
      "Standard deviation of EBAY: 13.19\n"
     ]
    },
    {
     "name": "stderr",
     "output_type": "stream",
     "text": [
      "[*********************100%%**********************]  1 of 1 completed\n",
      "[*********************100%%**********************]  1 of 1 completed\n"
     ]
    },
    {
     "name": "stdout",
     "output_type": "stream",
     "text": [
      "Standard deviation of AMZN: 51.39\n",
      "Standard deviation of NFLX: 165.87\n"
     ]
    },
    {
     "name": "stderr",
     "output_type": "stream",
     "text": [
      "[*********************100%%**********************]  1 of 1 completed\n"
     ]
    },
    {
     "name": "stdout",
     "output_type": "stream",
     "text": [
      "Standard deviation of MSFT: 101.62\n"
     ]
    },
    {
     "name": "stderr",
     "output_type": "stream",
     "text": [
      "\r\n",
      "[*********************100%%**********************]  1 of 1 completed"
     ]
    },
    {
     "name": "stdout",
     "output_type": "stream",
     "text": [
      "Standard deviation of INTC: 10.71\n"
     ]
    },
    {
     "name": "stderr",
     "output_type": "stream",
     "text": [
      "\n"
     ]
    }
   ],
   "source": [
    "def calculate_std_dev(stock_symbol, start_date, end_date):\n",
    "    stock_data = yf.download(stock_symbol, start=start_date, end=end_date)\n",
    "    stock_prices = stock_data['Close']\n",
    "    std_dev = np.std(stock_prices)\n",
    "    return std_dev\n",
    "\n",
    "tickers = ['GOOG', 'TSLA', 'META', 'NVDA', 'AAPL', 'EBAY', 'AMZN', 'NFLX', 'MSFT', 'INTC']\n",
    "start_date = '2014-01-01'\n",
    "end_date = '2023-12-31'\n",
    "deviations = {}\n",
    "for stock_symbol in tickers:\n",
    "    std_dev = calculate_std_dev(stock_symbol, start_date, end_date)\n",
    "    print(f\"Standard deviation of {stock_symbol}: {std_dev:.2f}\")\n",
    "    deviations[stock_symbol] = std_dev"
   ]
  },
  {
   "attachments": {},
   "cell_type": "markdown",
   "metadata": {
    "id": "tv91ME3ONprA"
   },
   "source": [
    "**1. High Risk Strategy**\n",
    "\n",
    "Using the standard deviations calculated in the cell above distribute the $1000 to each stock proportionally based on its standard deviation.\n",
    "\n",
    "Eg: Invest more in stocks with a higher standard deviation"
   ]
  },
  {
   "cell_type": "code",
   "execution_count": 2,
   "metadata": {
    "colab": {
     "base_uri": "https://localhost:8080/"
    },
    "id": "qIN4TjOqH6CR",
    "outputId": "9e3949a6-e993-4e49-e28b-c46d64d9a5fc"
   },
   "outputs": [
    {
     "name": "stdout",
     "output_type": "stream",
     "text": [
      "{'GOOG': 50.136227303459194, 'TSLA': 145.8430779331725, 'META': 109.10195062112088, 'NVDA': 158.5026951741418, 'AAPL': 75.5784537680568, 'EBAY': 17.727043851682154, 'AMZN': 69.08838496842199, 'NFLX': 223.00212358649634, 'MSFT': 136.62191698379198, 'INTC': 14.398125809656353}\n"
     ]
    }
   ],
   "source": [
    "#High risk strategy\n",
    "total = 1000\n",
    "initial_investment_per_stock = {}\n",
    "distribution = {}\n",
    "for stock in tickers:\n",
    "    distribution[stock] = deviations[stock]/sum(deviations.values())\n",
    "    initial_investment_per_stock[stock] = 1000*distribution[stock]\n",
    "print(initial_investment_per_stock)"
   ]
  },
  {
   "attachments": {},
   "cell_type": "markdown",
   "metadata": {
    "id": "RIszEgRfOWpJ"
   },
   "source": [
    "**2. Low Risk Strategy**\n",
    "\n",
    "Using the standard deviations calculated in the first cell distribute the $1000 to each stock proportionally based on the reciprocal of the standard deviation.  \n",
    "\n",
    "Eg: Invest less in stocks with a higher standard deviation"
   ]
  },
  {
   "cell_type": "code",
   "execution_count": 3,
   "metadata": {
    "colab": {
     "base_uri": "https://localhost:8080/"
    },
    "id": "APkNP0txKSG5",
    "outputId": "8f42a9aa-e46a-4618-f0c9-4633dfda1e1b"
   },
   "outputs": [
    {
     "name": "stdout",
     "output_type": "stream",
     "text": [
      "{'GOOG': 96.05383289626462, 'TSLA': 33.02026306426604, 'META': 44.140153059035505, 'NVDA': 30.382933199745732, 'AAPL': 63.718911400791264, 'EBAY': 271.6627114903104, 'AMZN': 69.70457916561145, 'NFLX': 21.595206009720815, 'MSFT': 35.24893300997179, 'INTC': 334.4724767042823}\n"
     ]
    }
   ],
   "source": [
    "#Low risk strategy\n",
    "total = 1000\n",
    "initial_investment_per_stock = {}\n",
    "distribution = {}\n",
    "std_reciprocals = {}\n",
    "for stock in tickers:\n",
    "    std_reciprocals[stock] = 1/deviations[stock]\n",
    "for stock in tickers:\n",
    "    distribution[stock] = std_reciprocals[stock]/sum(std_reciprocals.values())\n",
    "    initial_investment_per_stock[stock] = 1000*distribution[stock]\n",
    "print(initial_investment_per_stock)"
   ]
  },
  {
   "attachments": {},
   "cell_type": "markdown",
   "metadata": {
    "id": "Ad7rU0m-PiWC"
   },
   "source": [
    "**3. Manually input the investment for each stock**"
   ]
  },
  {
   "cell_type": "code",
   "execution_count": 8,
   "metadata": {
    "colab": {
     "base_uri": "https://localhost:8080/"
    },
    "id": "0XX_wrN7MDMI",
    "outputId": "d9a5df79-5cb8-4a7d-89f3-507dcd256e35"
   },
   "outputs": [
    {
     "name": "stdout",
     "output_type": "stream",
     "text": [
      "Enter initial investment amount for GOOG: $0\n",
      "Enter initial investment amount for TSLA: $0\n",
      "Enter initial investment amount for META: $100\n",
      "Enter initial investment amount for NVDA: $700\n",
      "Enter initial investment amount for AAPL: $100\n",
      "Enter initial investment amount for EBAY: $0\n",
      "Enter initial investment amount for AMZN: $100\n",
      "Enter initial investment amount for NFLX: $0\n",
      "Enter initial investment amount for MSFT: $0\n",
      "Enter initial investment amount for INTC: $0\n"
     ]
    }
   ],
   "source": [
    "#User inputted investment strategy\n",
    "initial_investment_per_stock = {}\n",
    "for ticker in tickers:\n",
    "    investment = float(input(f\"Enter initial investment amount for {ticker}: $\"))\n",
    "    initial_investment_per_stock[ticker] = investment"
   ]
  },
  {
   "attachments": {},
   "cell_type": "markdown",
   "metadata": {
    "id": "w5Ijyu67P-hI"
   },
   "source": [
    "**Investment return after one year, start of 2023 - end of 2023**"
   ]
  },
  {
   "cell_type": "code",
   "execution_count": 9,
   "metadata": {
    "colab": {
     "base_uri": "https://localhost:8080/"
    },
    "id": "5pFGZM3289AJ",
    "outputId": "6d05c886-adc0-4569-a9f1-117a6453be1b"
   },
   "outputs": [
    {
     "name": "stderr",
     "output_type": "stream",
     "text": [
      "[*********************100%%**********************]  1 of 1 completed\n",
      "[*********************100%%**********************]  1 of 1 completed\n",
      "[*********************100%%**********************]  1 of 1 completed\n",
      "[*********************100%%**********************]  1 of 1 completed\n",
      "[*********************100%%**********************]  1 of 1 completed\n",
      "[*********************100%%**********************]  1 of 1 completed\n",
      "[*********************100%%**********************]  1 of 1 completed\n",
      "[*********************100%%**********************]  1 of 1 completed\n",
      "[*********************100%%**********************]  1 of 1 completed\n",
      "[*********************100%%**********************]  1 of 1 completed\n"
     ]
    },
    {
     "name": "stdout",
     "output_type": "stream",
     "text": [
      "Total value of investment at the end of 2023: $2947.98\n"
     ]
    }
   ],
   "source": [
    "import yfinance as yf\n",
    "\n",
    "def download_stock_data(tickers, start_date, end_date):\n",
    "    stock_data = {}\n",
    "    for ticker in tickers:\n",
    "        stock = yf.download(ticker, start=start_date, end=end_date)\n",
    "        stock_data[ticker] = stock\n",
    "    return stock_data\n",
    "\n",
    "def simulate_investment(stock_data, initial_investment_per_stock, investment_year):\n",
    "    portfolio_value = 0\n",
    "\n",
    "    for ticker, data in stock_data.items():\n",
    "        initial_price = data[data.index.year == investment_year].iloc[0]['Open']\n",
    "        final_price = data[data.index.year == 2023].iloc[-1]['Close']\n",
    "        shares_bought = initial_investment_per_stock[ticker] / initial_price\n",
    "        current_value = shares_bought * final_price\n",
    "        portfolio_value += current_value\n",
    "\n",
    "    return portfolio_value\n",
    "\n",
    "tickers = ['GOOG', 'TSLA', 'META', 'NVDA', 'AAPL', 'EBAY', 'AMZN', 'NFLX', 'MSFT', 'INTC']\n",
    "start_date = '2014-01-01'\n",
    "end_date = '2023-12-31'\n",
    "\n",
    "\n",
    "stock_data = download_stock_data(tickers, start_date, end_date)\n",
    "\n",
    "investment_year = 2023\n",
    "portfolio_value = simulate_investment(stock_data, initial_investment_per_stock, investment_year)\n",
    "print(f\"Total value of investment at the end of 2023: ${portfolio_value:.2f}\")\n"
   ]
  },
  {
   "attachments": {},
   "cell_type": "markdown",
   "metadata": {
    "id": "VZZ_M8awQXLY"
   },
   "source": [
    "**Yearly returns and annual percentage change, start of 2014 - end of 2023**"
   ]
  },
  {
   "cell_type": "code",
   "execution_count": 10,
   "metadata": {
    "colab": {
     "base_uri": "https://localhost:8080/"
    },
    "id": "K6kJrxiR5vh5",
    "outputId": "52293bef-1bd9-45bd-99ec-f053c4e1d346"
   },
   "outputs": [
    {
     "name": "stderr",
     "output_type": "stream",
     "text": [
      "[*********************100%%**********************]  1 of 1 completed\n",
      "[*********************100%%**********************]  1 of 1 completed\n",
      "[*********************100%%**********************]  1 of 1 completed\n",
      "[*********************100%%**********************]  1 of 1 completed\n",
      "[*********************100%%**********************]  1 of 1 completed\n",
      "[*********************100%%**********************]  1 of 1 completed\n",
      "[*********************100%%**********************]  1 of 1 completed\n",
      "[*********************100%%**********************]  1 of 1 completed\n",
      "[*********************100%%**********************]  1 of 1 completed\n",
      "[*********************100%%**********************]  1 of 1 completed\n"
     ]
    },
    {
     "name": "stdout",
     "output_type": "stream",
     "text": [
      "Total value of investment in 2014: $1240.76\n",
      "Total value of investment in 2015: $1942.21\n",
      "Total value of investment in 2016: $5237.10\n",
      "Total value of investment in 2017: $9336.43\n",
      "Total value of investment in 2018: $6684.39\n",
      "Total value of investment in 2019: $11553.71\n",
      "Total value of investment in 2020: $24944.54\n",
      "Total value of investment in 2021: $54072.17\n",
      "Total value of investment in 2022: $26998.46\n",
      "Total value of investment in 2023: $89476.67\n",
      "Annual return in 2014: 24.0\n",
      "Annual return in 2015: 56.0\n",
      "Annual return in 2016: 169.0\n",
      "Annual return in 2017: 78.0\n",
      "Annual return in 2018: -29.0\n",
      "Annual return in 2019: 72.0\n",
      "Annual return in 2020: 115.0\n",
      "Annual return in 2021: 116.0\n",
      "Annual return in 2022: -51.0\n",
      "Annual return in 2023: 231.0\n"
     ]
    }
   ],
   "source": [
    "import yfinance as yf\n",
    "\n",
    "def download_stock_data(tickers, start_date, end_date):\n",
    "    stock_data = {}\n",
    "    for ticker in tickers:\n",
    "        stock = yf.download(ticker, start=start_date, end=end_date)\n",
    "        stock_data[ticker] = stock\n",
    "    return stock_data\n",
    "\n",
    "def simulate_investment(stock_data, initial_investment_per_stock):\n",
    "    years = sorted(set(stock_data[tickers[0]].index.year))\n",
    "    portfolio_values = {year: 0 for year in years}\n",
    "\n",
    "    for year in years:\n",
    "        #go through all the stocks in that one year before going to the next year\n",
    "        for ticker, data in stock_data.items():\n",
    "            #use the open/close values for that stock data\n",
    "            initial_price = data.iloc[0]['Open']\n",
    "            final_price = data[data.index.year == year].iloc[-1]['Close']\n",
    "            #to calculate the shares bought and current value\n",
    "            shares_bought = initial_investment_per_stock[ticker] / initial_price\n",
    "            current_value = shares_bought * final_price\n",
    "            #the amount earned that year\n",
    "            portfolio_values[year] += current_value\n",
    "    return portfolio_values\n",
    "\n",
    "tickers = ['GOOG', 'TSLA', 'META', 'NVDA', 'AAPL', 'EBAY', 'AMZN', 'NFLX', 'MSFT', 'INTC']\n",
    "start_date = '2014-01-01'\n",
    "end_date = '2023-12-31'\n",
    "\n",
    "stock_data = download_stock_data(tickers, start_date, end_date)\n",
    "portfolio_values = simulate_investment(stock_data, initial_investment_per_stock)\n",
    "\n",
    "for year, value in portfolio_values.items():\n",
    "    print(f\"Total value of investment in {year}: ${value:.2f}\")\n",
    "start = sum(initial_investment_per_stock.values())\n",
    "for year, value in portfolio_values.items():\n",
    "    percentage = (((value/start)-1)*100)//1\n",
    "    start = value\n",
    "    print(f\"Annual return in {year}: \" + str(percentage))\n"
   ]
  },
  {
   "cell_type": "code",
   "execution_count": null,
   "metadata": {
    "id": "h3C8lzsv_Thq"
   },
   "outputs": [],
   "source": []
  }
 ],
 "metadata": {
  "colab": {
   "provenance": []
  },
  "kernelspec": {
   "display_name": "Python 3 (ipykernel)",
   "language": "python",
   "name": "python3"
  },
  "language_info": {
   "codemirror_mode": {
    "name": "ipython",
    "version": 3
   },
   "file_extension": ".py",
   "mimetype": "text/x-python",
   "name": "python",
   "nbconvert_exporter": "python",
   "pygments_lexer": "ipython3",
   "version": "3.9.13"
  }
 },
 "nbformat": 4,
 "nbformat_minor": 1
}
